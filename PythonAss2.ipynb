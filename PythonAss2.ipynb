{
  "nbformat": 4,
  "nbformat_minor": 0,
  "metadata": {
    "colab": {
      "provenance": [],
      "authorship_tag": "ABX9TyNRX+bJJ+AJuXgaQPh0CZGP",
      "include_colab_link": true
    },
    "kernelspec": {
      "name": "python3",
      "display_name": "Python 3"
    },
    "language_info": {
      "name": "python"
    }
  },
  "cells": [
    {
      "cell_type": "markdown",
      "metadata": {
        "id": "view-in-github",
        "colab_type": "text"
      },
      "source": [
        "<a href=\"https://colab.research.google.com/github/lipika-92/Python-Assignment1/blob/main/PythonAss2.ipynb\" target=\"_parent\"><img src=\"https://colab.research.google.com/assets/colab-badge.svg\" alt=\"Open In Colab\"/></a>"
      ]
    },
    {
      "cell_type": "code",
      "execution_count": 2,
      "metadata": {
        "colab": {
          "base_uri": "https://localhost:8080/"
        },
        "id": "NjsbDpcQuIVT",
        "outputId": "56aa460b-ebed-48f4-8d0c-6a8d5b3d3dd0"
      },
      "outputs": [
        {
          "output_type": "stream",
          "name": "stdout",
          "text": [
            "Highest Scorer: ('Sudeepta', 98)\n"
          ]
        }
      ],
      "source": [
        "#ASSIGNMENT 2\n",
        "#q1 - sub part 1\n",
        "# Sub-part 1\n",
        "\n",
        "d = {\n",
        "    \"Lipika\": 80,\n",
        "    \"Shilky\": 78,\n",
        "    \"Ashish\": 70,\n",
        "    \"Sudeepta\": 98,\n",
        "    \"Manash\": 93\n",
        "}\n",
        "\n",
        "max_key, max_val = 0, 0\n",
        "for key, value in d.items():\n",
        "    if value > max_val:\n",
        "        max_val = value\n",
        "        max_key = key\n",
        "\n",
        "print(\"Highest Scorer:\", (max_key, max_val))"
      ]
    },
    {
      "cell_type": "code",
      "source": [
        "# Sub-part 2\n",
        "\n",
        "d = {\n",
        "    \"Lipika\": 80,\n",
        "    \"Shilky\": 78,\n",
        "    \"Ashish\": 70,\n",
        "    \"Sudeepta\": 98,\n",
        "    \"Manash\": 93\n",
        "}\n",
        "\n",
        "items = list(d.items())\n",
        "for i in range(len(items)):\n",
        "    for j in range(i+1, len(items)):\n",
        "        if items[i][1] > items[j][1]:\n",
        "            items[i], items[j] = items[j], items[i]\n",
        "\n",
        "sorted_scores = dict(items)\n",
        "print(\"Scores sorted in ascending order:\", sorted_scores)"
      ],
      "metadata": {
        "colab": {
          "base_uri": "https://localhost:8080/"
        },
        "id": "1k7iZWJdzXCz",
        "outputId": "d1b2a409-d8c7-4119-97b8-7355c81ad758"
      },
      "execution_count": 3,
      "outputs": [
        {
          "output_type": "stream",
          "name": "stdout",
          "text": [
            "Scores sorted in ascending order: {'Ashish': 70, 'Shilky': 78, 'Lipika': 80, 'Manash': 93, 'Sudeepta': 98}\n"
          ]
        }
      ]
    },
    {
      "cell_type": "code",
      "source": [
        "# Sub-part 3\n",
        "\n",
        "d = {\n",
        "    \"Lipika\": 80,\n",
        "    \"Shilky\": 78,\n",
        "    \"Ashish\": 70,\n",
        "    \"Sudeepta\": 98,\n",
        "    \"Manash\": 93\n",
        "}\n",
        "\n",
        "name = input(\"Enter a name:\")\n",
        "if name in d:\n",
        "    print(f\"{name} is already present with score {d[name]}\")\n",
        "else:\n",
        "    score = int(input(f\"Enter score for {name}: \"))\n",
        "    d[name] = score\n",
        "    print(f\"{name} added successfully\")\n",
        "\n",
        "print(\"Updated dictionary:\", d)"
      ],
      "metadata": {
        "colab": {
          "base_uri": "https://localhost:8080/"
        },
        "id": "B40zOTrK0V1N",
        "outputId": "19d304df-51cb-4f14-9424-4b6d07dd8a3d"
      },
      "execution_count": 4,
      "outputs": [
        {
          "output_type": "stream",
          "name": "stdout",
          "text": [
            "Enter a name:Kshitij\n",
            "Enter score for Kshitij: 99\n",
            "Kshitij added successfully\n",
            "Updated dictionary: {'Lipika': 80, 'Shilky': 78, 'Ashish': 70, 'Sudeepta': 98, 'Manash': 93, 'Kshitij': 99}\n"
          ]
        }
      ]
    },
    {
      "cell_type": "code",
      "source": [
        "# Sub-part 4\n",
        "\n",
        "d = {\n",
        "    \"Lipika\": 80,\n",
        "    \"Shilky\": 78,\n",
        "    \"Ashish\": 70,\n",
        "    \"Sudeepta\": 98,\n",
        "    \"Manash\": 93,\n",
        "    \"Kshitij\" : 99\n",
        "}\n",
        "\n",
        "min_key = None\n",
        "min_value = float('inf')\n",
        "\n",
        "for key, value in d.items():\n",
        "    if value < min_value:\n",
        "        min_value = value\n",
        "        min_key = key\n",
        "\n",
        "if min_key is not None:\n",
        "    del d[min_key]\n",
        "    print(f\"Removed: '{min_key}' with score {min_value}\")\n",
        "\n",
        "print(\"Updated dictionary:\", d)"
      ],
      "metadata": {
        "colab": {
          "base_uri": "https://localhost:8080/"
        },
        "id": "yG99pr5L1X-D",
        "outputId": "934f6809-77bf-41d1-a62c-2609098c683b"
      },
      "execution_count": 5,
      "outputs": [
        {
          "output_type": "stream",
          "name": "stdout",
          "text": [
            "Removed: 'Ashish' with score 70\n",
            "Updated dictionary: {'Lipika': 80, 'Shilky': 78, 'Sudeepta': 98, 'Manash': 93, 'Kshitij': 99}\n"
          ]
        }
      ]
    }
  ]
}