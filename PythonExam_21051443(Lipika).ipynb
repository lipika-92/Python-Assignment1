{
  "nbformat": 4,
  "nbformat_minor": 0,
  "metadata": {
    "colab": {
      "provenance": [],
      "authorship_tag": "ABX9TyMQYXiaSQxQPPwN+5DR3jLI",
      "include_colab_link": true
    },
    "kernelspec": {
      "name": "python3",
      "display_name": "Python 3"
    },
    "language_info": {
      "name": "python"
    }
  },
  "cells": [
    {
      "cell_type": "markdown",
      "metadata": {
        "id": "view-in-github",
        "colab_type": "text"
      },
      "source": [
        "<a href=\"https://colab.research.google.com/github/lipika-92/Python-Assignment1/blob/main/PythonExam_21051443(Lipika).ipynb\" target=\"_parent\"><img src=\"https://colab.research.google.com/assets/colab-badge.svg\" alt=\"Open In Colab\"/></a>"
      ]
    },
    {
      "cell_type": "code",
      "execution_count": 14,
      "metadata": {
        "colab": {
          "base_uri": "https://localhost:8080/"
        },
        "id": "BISvEmr5yzwu",
        "outputId": "d31e9458-2b1a-4225-aea0-3e6abe7eb9ce"
      },
      "outputs": [
        {
          "output_type": "stream",
          "name": "stdout",
          "text": [
            "Grades\n",
            " {1: 'A', 2: 'B', 3: 'C', 4: 'D', 5: 'F'}\n"
          ]
        }
      ],
      "source": [
        "'''\n",
        "Student Grade Calculator Write a Python program that:\n",
        "\n",
        "Takes a list of student scores as input Uses a function to\n",
        "calculate the average Uses control statements to assign letter\n",
        "grades (A: 90+, B: 80-89, C: 70-79, D: 60-69, F: <60)\n",
        "Returns a dictionary with student numbers as keys and their grades as values\n",
        "Example Input: [95, 87, 76, 64, 45]\n",
        "\n",
        "Expected Output: {1: 'A', 2: 'B', 3: 'C', 4: 'D', 5: 'F'}\n",
        "'''\n",
        "# Q1\n",
        "\n",
        "def calc_average(scores):\n",
        "    return sum(scores) / len(scores)\n",
        "\n",
        "def assign_grade(score):\n",
        "    if score >= 90:\n",
        "        return 'A'\n",
        "    elif score >= 80:\n",
        "        return 'B'\n",
        "    elif score >= 70:\n",
        "        return 'C'\n",
        "    elif score >= 60:\n",
        "        return 'D'\n",
        "    else:\n",
        "        return 'F'\n",
        "\n",
        "def grades(scores):\n",
        "    grades = {}\n",
        "    ind = 1\n",
        "\n",
        "    for score in scores:\n",
        "        grades[ind] = assign_grade(score)\n",
        "        ind += 1\n",
        "\n",
        "    return grades\n",
        "\n",
        "\n",
        "student_scores = [95, 87, 76, 64, 45]\n",
        "print(\"Grades\\n\", grades(student_scores))"
      ]
    },
    {
      "cell_type": "code",
      "source": [
        "'''\n",
        "Shopping Cart System Create a shopping cart system that:\n",
        "\n",
        "Uses a dictionary to store items and their prices\n",
        "Implements functions to add_item(), remove_item(),\n",
        "and calculate_total() Uses control statements to apply\n",
        "discounts (10% if total > $100, 5% if total > $50)\n",
        "Handles the case when trying to remove non-existent items\n",
        "Example: Cart with items worth $120 should apply 10% discount.\n",
        "'''\n",
        "# Q2\n",
        "\n",
        "cart = {}\n",
        "\n",
        "def add_item(item, price):\n",
        "    cart[item] = price\n",
        "    print(f\"Added {item} for ${price:0.2f}\")\n",
        "\n",
        "def remove_item(item):\n",
        "    if item in cart:\n",
        "        del cart[item]\n",
        "        print(f\"Removed {item}\")\n",
        "    else:\n",
        "        print(f\"Item '{item}' not found in cart.\")\n",
        "\n",
        "def calc_total():\n",
        "    total = sum(cart.values())\n",
        "    discount = 0\n",
        "\n",
        "    if total > 100:\n",
        "        discount = 0.10\n",
        "    elif total > 50:\n",
        "        discount = 0.05\n",
        "\n",
        "    discounted_total = total * (1 - discount)\n",
        "    print(f\"\\nSubtotal: ${total:0.2f}\")\n",
        "    print(f\"Discount Applied: {int(discount * 100)}%\")\n",
        "    print(f\"Total after discount: ${discounted_total: 0.2f}\")\n",
        "\n",
        "    return discounted_total\n",
        "\n",
        "add_item(\"Pencil box\", 120)\n",
        "add_item(\"Eraser box\", 50)\n",
        "add_item(\"Sharpner\", 10)\n",
        "\n",
        "remove_item(\"Sharpner\")\n",
        "calc_total()"
      ],
      "metadata": {
        "colab": {
          "base_uri": "https://localhost:8080/"
        },
        "id": "BVgkJDMFzGrn",
        "outputId": "c89dbdf9-eb7d-4987-9fef-92789f65a038"
      },
      "execution_count": 15,
      "outputs": [
        {
          "output_type": "stream",
          "name": "stdout",
          "text": [
            "Added Pencil box for $120.00\n",
            "Added Eraser box for $50.00\n",
            "Added Sharpner for $10.00\n",
            "Removed Sharpner\n",
            "\n",
            "Subtotal: $170.00\n",
            "Discount Applied: 10%\n",
            "Total after discount: $ 153.00\n"
          ]
        },
        {
          "output_type": "execute_result",
          "data": {
            "text/plain": [
              "153.0"
            ]
          },
          "metadata": {},
          "execution_count": 15
        }
      ]
    },
    {
      "cell_type": "code",
      "source": [
        "'''\n",
        "Password Validator Write a function that validates\n",
        " passwords based on these rules:\n",
        "\n",
        "Length between 8-16 characters\n",
        "Contains at least one uppercase letter\n",
        "Contains at least one lowercase letter\n",
        "Contains at least one digit\n",
        "Contains at least one special character (!@#$%^&*) Use control statements\n",
        "to check each condition and return appropriate messages\n",
        "Test with: \"Password123!\", \"pass\", \"PASSWORD123!\", \"Password\"\n",
        "'''\n",
        "# Q3\n",
        "\n",
        "def validate_password(password):\n",
        "    special_characters = \"!@#$%^&*\"\n",
        "    if (len(password)) < 8 or (len(password) > 16):\n",
        "        print(\"Password must be between 8 to 16 characters\")\n",
        "    has_upper = False\n",
        "    for char in password:\n",
        "        if char.isupper():\n",
        "            has_upper = True\n",
        "            break\n",
        "    if not has_upper:\n",
        "        return \"Password must contain atleast one uppercase letter.\"\n",
        "    has_lower = False\n",
        "    for char in password:\n",
        "        if char.islower():\n",
        "            has_lower = True\n",
        "            break\n",
        "    if not has_lower:\n",
        "        return \"Password must contain atleast one lowercase letter.\"\n",
        "    has_digit = False\n",
        "    for char in password:\n",
        "        if char.isdigit():\n",
        "            has_digit = True\n",
        "            break\n",
        "    if not has_digit:\n",
        "        return \"Password must contain atleast one digit.\"\n",
        "    has_special = False\n",
        "    for char in password:\n",
        "        if char in special_characters:\n",
        "            has_special = True\n",
        "            break\n",
        "    if not has_special:\n",
        "        return \"Password must contain atleast one special character (!@#$%^&*)\"\n",
        "\n",
        "    return \"Password is valid\"\n",
        "\n",
        "test_passwords = \"Pswd@1234\"\n",
        "print(validate_password(test_passwords))\n"
      ],
      "metadata": {
        "colab": {
          "base_uri": "https://localhost:8080/"
        },
        "id": "FF1GjHG8zRt3",
        "outputId": "f25ce0f4-6fcb-42cf-c3e1-f12733a2f71a"
      },
      "execution_count": 21,
      "outputs": [
        {
          "output_type": "stream",
          "name": "stdout",
          "text": [
            "Password is valid\n"
          ]
        }
      ]
    }
  ]
}