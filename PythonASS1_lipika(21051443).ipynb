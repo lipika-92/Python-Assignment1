{
  "nbformat": 4,
  "nbformat_minor": 0,
  "metadata": {
    "colab": {
      "provenance": [],
      "authorship_tag": "ABX9TyPC9G7jtJWPjykreVpK2WEb",
      "include_colab_link": true
    },
    "kernelspec": {
      "name": "python3",
      "display_name": "Python 3"
    },
    "language_info": {
      "name": "python"
    }
  },
  "cells": [
    {
      "cell_type": "markdown",
      "metadata": {
        "id": "view-in-github",
        "colab_type": "text"
      },
      "source": [
        "<a href=\"https://colab.research.google.com/github/lipika-92/Python-Assignment1/blob/main/PythonASS1_lipika(21051443).ipynb\" target=\"_parent\"><img src=\"https://colab.research.google.com/assets/colab-badge.svg\" alt=\"Open In Colab\"/></a>"
      ]
    },
    {
      "cell_type": "code",
      "execution_count": 1,
      "metadata": {
        "colab": {
          "base_uri": "https://localhost:8080/"
        },
        "id": "ghVfcAKJ6osY",
        "outputId": "2c619ecd-f885-4288-e466-891915b2bb70"
      },
      "outputs": [
        {
          "output_type": "stream",
          "name": "stdout",
          "text": [
            "Enter bill amount:4888\n",
            "Final bill amount: 3910.4\n"
          ]
        }
      ],
      "source": [
        "# Q1: Discount Calculator\n",
        "\n",
        "bill_amt = float(input(\"Enter bill amount:\"))\n",
        "\n",
        "if bill_amt > 1000:\n",
        "    discount = 0.20 * bill_amt\n",
        "elif bill_amt >= 500 and bill_amt < 1000:\n",
        "    discount = 0.10 * bill_amt\n",
        "else:\n",
        "    print(\"No discount\")\n",
        "\n",
        "print(\"Final bill amount:\", bill_amt - discount)"
      ]
    },
    {
      "cell_type": "code",
      "source": [
        "# Q2: Grade Categorizer\n",
        "\n",
        "score = float(input(\"Enter student score:\"))\n",
        "\n",
        "if 90 <= score <= 100:\n",
        "    print(\"Grade A\")\n",
        "elif 70 <= score <= 89:\n",
        "    print(\"Grade B\")\n",
        "elif 50 <= score <= 69:\n",
        "    print(\"Grade C\")\n",
        "elif score < 50:\n",
        "    print(\"Fail\")\n",
        "else:\n",
        "    print(\"Invalid score\")"
      ],
      "metadata": {
        "colab": {
          "base_uri": "https://localhost:8080/"
        },
        "id": "kiwoX9w97Xih",
        "outputId": "048bd110-c007-4a60-e217-cd9a315ebdb6"
      },
      "execution_count": 2,
      "outputs": [
        {
          "output_type": "stream",
          "name": "stdout",
          "text": [
            "Enter student score:78\n",
            "Grade B\n"
          ]
        }
      ]
    },
    {
      "cell_type": "code",
      "source": [
        "# Q3: Age Group Classifier\n",
        "\n",
        "age = int(input(\"Enter the age:\"))\n",
        "\n",
        "if age < 13:\n",
        "    print(\"Child\")\n",
        "elif 13 <= age <= 19:\n",
        "    print(\"Teen\")\n",
        "elif 20 <= age <= 59:\n",
        "    print(\"Adult\")\n",
        "elif age >= 60:\n",
        "    print(\"Senior\")\n",
        "else:\n",
        "    print(\"Invalid age group\")"
      ],
      "metadata": {
        "colab": {
          "base_uri": "https://localhost:8080/"
        },
        "id": "NAWxRLOm8E6w",
        "outputId": "23494add-18ec-486b-8961-6622f427ac35"
      },
      "execution_count": 3,
      "outputs": [
        {
          "output_type": "stream",
          "name": "stdout",
          "text": [
            "Enter the age:26\n",
            "Adult\n"
          ]
        }
      ]
    },
    {
      "cell_type": "code",
      "source": [
        "# Q4: Even/Odd and Multiple of 5\n",
        "\n",
        "num = int(input(\"Enter a number:\"))\n",
        "\n",
        "if num % 2 == 0:\n",
        "    if num % 5 == 0:\n",
        "        print(\"Even and divisible by 5\")\n",
        "    else:\n",
        "        print(\"Even and not divisible by 5\")\n",
        "else:\n",
        "    if num % 5 == 0:\n",
        "        print(\"Odd and divisible by 5\")\n",
        "    else:\n",
        "        print(\"Odd and not divisible by 5\")"
      ],
      "metadata": {
        "colab": {
          "base_uri": "https://localhost:8080/"
        },
        "id": "W-yfm3Yy8bqC",
        "outputId": "aaf7acd6-9ee0-4483-cf91-e4c2cc5eae3e"
      },
      "execution_count": 4,
      "outputs": [
        {
          "output_type": "stream",
          "name": "stdout",
          "text": [
            "Enter a number:75\n",
            "Odd and divisible by 5\n"
          ]
        }
      ]
    },
    {
      "cell_type": "code",
      "source": [
        "# Q5: Login System (Membership Operator)\n",
        "\n",
        "username = input(\"Enter username:\")\n",
        "\n",
        "if username in \"john amy sita\":\n",
        "    print(\"Login successful\")\n",
        "else:\n",
        "    print(\"Login denied\")"
      ],
      "metadata": {
        "colab": {
          "base_uri": "https://localhost:8080/"
        },
        "id": "-u5QBZec81__",
        "outputId": "5510ca92-ecb7-4377-fa35-54fc6ede73ab"
      },
      "execution_count": 7,
      "outputs": [
        {
          "output_type": "stream",
          "name": "stdout",
          "text": [
            "Enter username:amy\n",
            "Login successful\n"
          ]
        }
      ]
    },
    {
      "cell_type": "code",
      "source": [
        "# Q6: Number Comparison Game\n",
        "\n",
        "a = int(input(\"Enter the 1st number:\"))\n",
        "b = int(input(\"Enter the 2nd number:\"))\n",
        "\n",
        "if a > b:\n",
        "    print(f\"{a} is greater than {b}\")\n",
        "elif b > a:\n",
        "    print(f\"{b} is greater than {a}\")\n",
        "else:\n",
        "    print(f\"both {a} and {b} are equal\")"
      ],
      "metadata": {
        "colab": {
          "base_uri": "https://localhost:8080/"
        },
        "id": "tMRNtc029WuW",
        "outputId": "41c717e4-9104-452c-92f9-bd1ca3f7fbaa"
      },
      "execution_count": 8,
      "outputs": [
        {
          "output_type": "stream",
          "name": "stdout",
          "text": [
            "Enter the 1st number:77\n",
            "Enter the 2nd number:32\n",
            "77 is greater than 32\n"
          ]
        }
      ]
    },
    {
      "cell_type": "code",
      "source": [
        "# Q7: Eligibility for Voting and Driving\n",
        "\n",
        "age = int(input(\"Enter age:\"))\n",
        "\n",
        "if 18 <= age < 21:\n",
        "    print(\"Eligible for voting\")\n",
        "elif age >= 21:\n",
        "    print(\"Eligible for both voting and driving\")\n",
        "else:\n",
        "    print(\"Invalid age group\")"
      ],
      "metadata": {
        "colab": {
          "base_uri": "https://localhost:8080/"
        },
        "id": "ynhcNa-W9siI",
        "outputId": "ea86b0e9-ad68-43c8-8c6d-c1603cf15a66"
      },
      "execution_count": 9,
      "outputs": [
        {
          "output_type": "stream",
          "name": "stdout",
          "text": [
            "Enter age:22\n",
            "Eligible for both voting and driving\n"
          ]
        }
      ]
    },
    {
      "cell_type": "code",
      "source": [
        "# Q8: Leap Year Check\n",
        "\n",
        "year = int(input(\"Enter year:\"))\n",
        "\n",
        "if year % 4 == 0:\n",
        "    if year % 100 == 0:\n",
        "        print(\"Not a leap year\")\n",
        "    else:\n",
        "        print(\"Leap year\")\n",
        "elif year % 400 == 0:\n",
        "    print(\"Leap year\")"
      ],
      "metadata": {
        "colab": {
          "base_uri": "https://localhost:8080/"
        },
        "id": "5RIIRGox-Bbr",
        "outputId": "2c345789-a6b0-4333-add7-8612f8ed0476"
      },
      "execution_count": 11,
      "outputs": [
        {
          "output_type": "stream",
          "name": "stdout",
          "text": [
            "Enter year:2004\n",
            "Leap year\n"
          ]
        }
      ]
    },
    {
      "cell_type": "code",
      "source": [
        "# Q9: Login with Role\n",
        "\n",
        "username = input(\"Enter username: \").lower()\n",
        "role = input(\"Enter role: \").lower()\n",
        "\n",
        "if (username in \"alice bob charlie david\") and (role in \"admin manager\"):\n",
        "    print('Login successful')\n",
        "else:\n",
        "    print(\"Login denied\")"
      ],
      "metadata": {
        "colab": {
          "base_uri": "https://localhost:8080/"
        },
        "id": "A7ozyJ_l-Val",
        "outputId": "499ca543-437d-430b-bfa7-b22f93604750"
      },
      "execution_count": 12,
      "outputs": [
        {
          "output_type": "stream",
          "name": "stdout",
          "text": [
            "Enter username: charlie\n",
            "Enter role: admin\n",
            "Login successful\n"
          ]
        }
      ]
    },
    {
      "cell_type": "code",
      "source": [
        "# Q10: Arithmetic Operations Based on User Choice\n",
        "\n",
        "option = input(\"Enter the operation: \")\n",
        "a = int(input(\"Enter the number a: \"))\n",
        "b = int(input(\"Enter the number b: \"))\n",
        "\n",
        "match option:\n",
        "    case '+':\n",
        "        print(\"Addition:\", a+b)\n",
        "    case '-':\n",
        "        print(\"Subtraction:\", abs(a-b))\n",
        "    case '*':\n",
        "        print(\"Multiplication:\", a*b)\n",
        "    case '/':\n",
        "        print(\"Division:\", a/b)\n",
        "    case _:\n",
        "        print(\"Invalid operation type\")"
      ],
      "metadata": {
        "colab": {
          "base_uri": "https://localhost:8080/"
        },
        "id": "qSXwtYOt-7BI",
        "outputId": "93c5cb75-286c-4d50-91a2-64886207f9ad"
      },
      "execution_count": 16,
      "outputs": [
        {
          "output_type": "stream",
          "name": "stdout",
          "text": [
            "Enter the operation: *\n",
            "Enter the number a: 4\n",
            "Enter the number b: 9\n",
            "Multiplication: 36\n"
          ]
        }
      ]
    },
    {
      "cell_type": "code",
      "source": [
        "# Q11: Weather Alert System\n",
        "\n",
        "temp = float(input(\"Enter temperature:\"))\n",
        "\n",
        "if temp > 40:\n",
        "    print(\"Heat Alert\")\n",
        "elif 30 < temp <= 40:\n",
        "    print(\"Warm\")\n",
        "elif temp <= 30:\n",
        "    print(\"Normal\")\n",
        "else:\n",
        "    print(\"Invalid temparature input\")"
      ],
      "metadata": {
        "colab": {
          "base_uri": "https://localhost:8080/"
        },
        "id": "RJKtUaJz_wcb",
        "outputId": "4f2b6a39-d96a-48e3-c971-37690893f829"
      },
      "execution_count": 17,
      "outputs": [
        {
          "output_type": "stream",
          "name": "stdout",
          "text": [
            "Enter temperature:37\n",
            "Warm\n"
          ]
        }
      ]
    },
    {
      "cell_type": "code",
      "source": [
        "# Q12: Password Strength Checker\n",
        "\n",
        "password = input(\"Enter password:\")\n",
        "length = len(password)\n",
        "\n",
        "if length >= 8:\n",
        "    if '@' in password:\n",
        "        print(\"Strong password\")\n",
        "    else:\n",
        "        print(\"Weak password\")\n",
        "else:\n",
        "    print(\"Invalid password\")"
      ],
      "metadata": {
        "colab": {
          "base_uri": "https://localhost:8080/"
        },
        "id": "YvkuErJdAJm0",
        "outputId": "6cd3b8a1-4a74-4ab4-c7b1-442e7c222a13"
      },
      "execution_count": 18,
      "outputs": [
        {
          "output_type": "stream",
          "name": "stdout",
          "text": [
            "Enter password:lipika@123\n",
            "Strong password\n"
          ]
        }
      ]
    },
    {
      "cell_type": "code",
      "source": [
        "# Q13: ATM Withdrawl\n",
        "\n",
        "balance = int(input(\"Enter balance:\"))\n",
        "amt = int(input(\"Enter amount:\"))\n",
        "\n",
        "if amt <= balance and amt % 100 == 0:\n",
        "    print(\"Withdrawl possible\")\n",
        "else:\n",
        "    print(\"Withdrawl not possible\")"
      ],
      "metadata": {
        "colab": {
          "base_uri": "https://localhost:8080/"
        },
        "id": "bGU100thAjTr",
        "outputId": "642bed61-fe23-4259-f5ce-fad3322e57ca"
      },
      "execution_count": 19,
      "outputs": [
        {
          "output_type": "stream",
          "name": "stdout",
          "text": [
            "Enter balance:3000\n",
            "Enter amount:800\n",
            "Withdrawl possible\n"
          ]
        }
      ]
    },
    {
      "cell_type": "code",
      "source": [
        "# Q14: Divisibility Check\n",
        "\n",
        "num = int(input(\"Enter a number:\"))\n",
        "\n",
        "if num % 3 == 0:\n",
        "    if num % 5 == 0:\n",
        "        print(\"Divisible by both 3 and 5\")\n",
        "    else:\n",
        "        print(\"Divisible by only 3\")\n",
        "elif num % 5 == 0:\n",
        "    print(\"Divisible by only 5\")\n",
        "else:\n",
        "    print(\"Not divisible by 3 or 5\")"
      ],
      "metadata": {
        "colab": {
          "base_uri": "https://localhost:8080/"
        },
        "id": "zNd-PxysA3nh",
        "outputId": "3de6c9f5-9faf-437d-8d25-1dff6c9cf282"
      },
      "execution_count": 20,
      "outputs": [
        {
          "output_type": "stream",
          "name": "stdout",
          "text": [
            "Enter a number:30\n",
            "Divisible by both 3 and 5\n"
          ]
        }
      ]
    },
    {
      "cell_type": "code",
      "source": [
        "# Q15: Product Availability\n",
        "\n",
        "product = input(\"Enter product name:\")\n",
        "\n",
        "if product in \"pen pencil eraser\":\n",
        "    print(\"Product is present in the inventory\")\n",
        "else:\n",
        "    print(\"Not present\")"
      ],
      "metadata": {
        "colab": {
          "base_uri": "https://localhost:8080/"
        },
        "id": "Ew3m8Dt5BIDz",
        "outputId": "ef94b15a-293c-4636-8d16-db4028fbf3bd"
      },
      "execution_count": 22,
      "outputs": [
        {
          "output_type": "stream",
          "name": "stdout",
          "text": [
            "Enter product name:eraser\n",
            "Product is present in the inventory\n"
          ]
        }
      ]
    },
    {
      "cell_type": "code",
      "source": [
        "# Q16: Triangle Validity\n",
        "\n",
        "a = int(input(\"Enter the first side:\"))\n",
        "b = int(input(\"Enter the second side:\"))\n",
        "c = int(input(\"Enter the third side:\"))\n",
        "\n",
        "if a+b > c:\n",
        "    print(\"Valid Triangle\")\n",
        "else:\n",
        "    print(\"Not valid\")"
      ],
      "metadata": {
        "colab": {
          "base_uri": "https://localhost:8080/"
        },
        "id": "ouWg9R5XBgxV",
        "outputId": "96b66260-6e7b-476c-a077-cb4b2c57d645"
      },
      "execution_count": 25,
      "outputs": [
        {
          "output_type": "stream",
          "name": "stdout",
          "text": [
            "Enter the first side:5\n",
            "Enter the second side:8\n",
            "Enter the third side:4\n",
            "Valid Triangle\n"
          ]
        }
      ]
    },
    {
      "cell_type": "code",
      "source": [
        "# Q17: Max of Three Numbers\n",
        "\n",
        "a = int(input(\"Enter the first number:\"))\n",
        "b = int(input(\"Enter the second number:\"))\n",
        "c = int(input(\"Enter the third number:\"))\n",
        "\n",
        "if a > b and a > c:\n",
        "    print(f\"{a} is the largest number\")\n",
        "elif b > a and b > c:\n",
        "    print(f\"{b} is the largest number\")\n",
        "else:\n",
        "    print(f\"{c} is the largest number\")"
      ],
      "metadata": {
        "colab": {
          "base_uri": "https://localhost:8080/"
        },
        "id": "J5jBRsdiCB3h",
        "outputId": "78e1b785-09e3-42fe-f6fc-75e6d38216a8"
      },
      "execution_count": 26,
      "outputs": [
        {
          "output_type": "stream",
          "name": "stdout",
          "text": [
            "Enter the first number:34\n",
            "Enter the second number:88\n",
            "Enter the third number:23\n",
            "88 is the largest number\n"
          ]
        }
      ]
    },
    {
      "cell_type": "code",
      "source": [
        "# Q18: Marks Validity Check\n",
        "\n",
        "mark = int(input(\"Enter the marks:\"))\n",
        "\n",
        "if 0 <= mark <= 100:\n",
        "    print(\"Valid marks\")\n",
        "else:\n",
        "    print(\"Invalid\")"
      ],
      "metadata": {
        "colab": {
          "base_uri": "https://localhost:8080/"
        },
        "id": "U-SBKrafCQDc",
        "outputId": "b783b93b-778d-4c3b-ebac-c229af8a9a8a"
      },
      "execution_count": 27,
      "outputs": [
        {
          "output_type": "stream",
          "name": "stdout",
          "text": [
            "Enter the marks:83\n",
            "Valid marks\n"
          ]
        }
      ]
    },
    {
      "cell_type": "code",
      "source": [
        "# Q19: Login Attempt System\n",
        "\n",
        "CORRECT_USERNAME = \"lipika\"\n",
        "CORRECT_PASSWORD = \"lipika@python123\"\n",
        "\n",
        "username = input(\"Enter username:\")\n",
        "password = input(\"Enter password:\")\n",
        "\n",
        "if username == CORRECT_USERNAME and password == CORRECT_PASSWORD:\n",
        "    print(\"Login successfull\")\n",
        "else:\n",
        "    print(\"Login denied\")"
      ],
      "metadata": {
        "colab": {
          "base_uri": "https://localhost:8080/"
        },
        "id": "32lxjufJChho",
        "outputId": "ec585ae6-a9a6-4a9f-ab1c-a6f67a29b50b"
      },
      "execution_count": 28,
      "outputs": [
        {
          "output_type": "stream",
          "name": "stdout",
          "text": [
            "Enter username:lipika\n",
            "Enter password:lipika@python123\n",
            "Login successfull\n"
          ]
        }
      ]
    },
    {
      "cell_type": "code",
      "source": [
        "# Q20: ELectricity Bill Slab\n",
        "units = int(input(\"Enter units of electricity consumed:\"))\n",
        "bill = 0.0;\n",
        "\n",
        "if units <= 100:\n",
        "    bill = units * 5\n",
        "elif units <= 200:\n",
        "    bill = (100 * 5) + (units - 100) * 7\n",
        "else:\n",
        "    bill = (100 * 5) + (100 * 7) + (units - 200) * 10\n",
        "\n",
        "print(\"Total electricity bill:\", bill)"
      ],
      "metadata": {
        "colab": {
          "base_uri": "https://localhost:8080/"
        },
        "id": "xN22c_81DBGC",
        "outputId": "4acc5db4-d8ec-4c69-f4c1-faa3c9881275"
      },
      "execution_count": 33,
      "outputs": [
        {
          "output_type": "stream",
          "name": "stdout",
          "text": [
            "Enter units of electricity consumed:284\n",
            "Total electricity bill: 2040\n"
          ]
        }
      ]
    }
  ]
}