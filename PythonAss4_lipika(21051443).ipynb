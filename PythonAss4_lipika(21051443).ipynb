{
  "nbformat": 4,
  "nbformat_minor": 0,
  "metadata": {
    "colab": {
      "provenance": [],
      "authorship_tag": "ABX9TyOLU51MQL0Scz2olmU968C7",
      "include_colab_link": true
    },
    "kernelspec": {
      "name": "python3",
      "display_name": "Python 3"
    },
    "language_info": {
      "name": "python"
    }
  },
  "cells": [
    {
      "cell_type": "markdown",
      "metadata": {
        "id": "view-in-github",
        "colab_type": "text"
      },
      "source": [
        "<a href=\"https://colab.research.google.com/github/lipika-92/Python-Assignment1/blob/main/PythonAss4_lipika(21051443).ipynb\" target=\"_parent\"><img src=\"https://colab.research.google.com/assets/colab-badge.svg\" alt=\"Open In Colab\"/></a>"
      ]
    },
    {
      "cell_type": "code",
      "execution_count": 4,
      "metadata": {
        "colab": {
          "base_uri": "https://localhost:8080/"
        },
        "id": "3wfekWqYLRIB",
        "outputId": "9d61d64e-ef78-49c3-858a-491a1de856b2"
      },
      "outputs": [
        {
          "output_type": "stream",
          "name": "stdout",
          "text": [
            "---* Desi InstaGram! *---\n",
            "\n",
            "1gamer_._123 is now following 2pink_man_456.\n",
            "User1 followed user 2\n",
            "User1 Details: {'username': '1gamer_._123', 'email': 'player@example.com', 'following_count': 1, 'followers_count': 0}\n",
            "User2 Details: {'username': '2pink_man_456', 'email': 'gulabo@example.com', 'following_count': 0, 'followers_count': 1}\n",
            "User3 Details: {'username': '3darklord_99', 'email': 'kalua@example.com', 'following_count': 0, 'followers_count': 0}\n",
            "1gamer_._123 is now following 3darklord_99.\n",
            "User1 followed user 3\n",
            "User1 Details: {'username': '1gamer_._123', 'email': 'player@example.com', 'following_count': 2, 'followers_count': 0}\n",
            "User2 Details: {'username': '2pink_man_456', 'email': 'gulabo@example.com', 'following_count': 0, 'followers_count': 1}\n",
            "User3 Details: {'username': '3darklord_99', 'email': 'kalua@example.com', 'following_count': 0, 'followers_count': 1}\n",
            "3darklord_99 is now following 1gamer_._123.\n",
            "User3 followed user 1\n",
            "User1 Details: {'username': '1gamer_._123', 'email': 'player@example.com', 'following_count': 2, 'followers_count': 1}\n",
            "User2 Details: {'username': '2pink_man_456', 'email': 'gulabo@example.com', 'following_count': 0, 'followers_count': 1}\n",
            "User3 Details: {'username': '3darklord_99', 'email': 'kalua@example.com', 'following_count': 1, 'followers_count': 1}\n",
            "1gamer_._123 has unfollowed 2pink_man_456.\n",
            "User1 unfollowed user 2\n",
            "User1 Details: {'username': '1gamer_._123', 'email': 'player@example.com', 'following_count': 1, 'followers_count': 1}\n",
            "User2 Details: {'username': '2pink_man_456', 'email': 'gulabo@example.com', 'following_count': 0, 'followers_count': 0}\n",
            "User3 Details: {'username': '3darklord_99', 'email': 'kalua@example.com', 'following_count': 1, 'followers_count': 1}\n",
            "1gamer_._123 has unfollowed 3darklord_99.\n",
            "User1 unfollowed user 3\n",
            "User1 Details: {'username': '1gamer_._123', 'email': 'player@example.com', 'following_count': 0, 'followers_count': 1}\n",
            "User2 Details: {'username': '2pink_man_456', 'email': 'gulabo@example.com', 'following_count': 0, 'followers_count': 0}\n",
            "User3 Details: {'username': '3darklord_99', 'email': 'kalua@example.com', 'following_count': 1, 'followers_count': 0}\n",
            "3darklord_99 has unfollowed 1gamer_._123.\n",
            "User3 unfollowed user 1\n",
            "User1 Details: {'username': '1gamer_._123', 'email': 'player@example.com', 'following_count': 0, 'followers_count': 0}\n",
            "User2 Details: {'username': '2pink_man_456', 'email': 'gulabo@example.com', 'following_count': 0, 'followers_count': 0}\n",
            "User3 Details: {'username': '3darklord_99', 'email': 'kalua@example.com', 'following_count': 0, 'followers_count': 0}\n"
          ]
        }
      ],
      "source": [
        "'''\n",
        "Create a python class instagram with account creation which consists of\n",
        "username, password, email and then follow method which gives the number of\n",
        "people we are following and number of followers we have. And also unfollow\n",
        "function as well and last method of fetching the details.\n",
        "After this create 3 accounts.\n",
        "User 1 will follow user 2.\n",
        "User 1 will follow user 3.\n",
        "User 3 will follow user 1.\n",
        "Now, User 1 will unfollow user 2.\n",
        "User 1 will unfollow user 3.\n",
        "User 3 will unfollow user 1.\n",
        "Note: You need to show the details after each step.\n",
        "'''\n",
        "class InstagramAccount:\n",
        "    print(\"---* Desi InstaGram! *---\\n\")\n",
        "    def __init__(self, username, password, email):\n",
        "        self.username = username\n",
        "        self.password = password\n",
        "        self.email = email\n",
        "        self.following = set()\n",
        "        self.followers = set()\n",
        "\n",
        "    def follow(self, user):\n",
        "        \"\"\"Follow a user.\"\"\"\n",
        "        if user.username != self.username:\n",
        "            self.following.add(user.username)\n",
        "            user.followers.add(self.username)\n",
        "            print(f\"{self.username} is now following {user.username}.\")\n",
        "        else:\n",
        "            print(\"You cannot follow yourself.\")\n",
        "\n",
        "    def unfollow(self, user):\n",
        "        \"\"\"Unfollow a user.\"\"\"\n",
        "        if user.username in self.following:\n",
        "            self.following.remove(user.username)\n",
        "            user.followers.remove(self.username)\n",
        "            print(f\"{self.username} has unfollowed {user.username}.\")\n",
        "        else:\n",
        "            print(f\"{self.username} is not following {user.username}.\")\n",
        "\n",
        "    def get_details(self):\n",
        "        \"\"\"Fetch account details.\"\"\"\n",
        "        return {\n",
        "            \"username\": self.username,\n",
        "            \"email\": self.email,\n",
        "            \"following_count\": len(self.following),\n",
        "            \"followers_count\": len(self.followers)\n",
        "        }\n",
        "\n",
        "if __name__ == \"__main__\":\n",
        "    user1 = InstagramAccount(\"1gamer_._123\", \"khiladi@1-3\", \"player@example.com\")\n",
        "    user2 = InstagramAccount(\"2pink_man_456\", \"gulabi@456\", \"gulabo@example.com\")\n",
        "    user3 = InstagramAccount(\"3darklord_99\", \"kalukalia!9\", \"kalua@example.com\")\n",
        "\n",
        "    user1.follow(user2)\n",
        "    print(\"User1 followed user 2\")\n",
        "    print(\"User1 Details:\", user1.get_details())\n",
        "    print(\"User2 Details:\", user2.get_details())\n",
        "    print(\"User3 Details:\", user3.get_details())\n",
        "    user1.follow(user3)\n",
        "    print(\"User1 followed user 3\")\n",
        "    print(\"User1 Details:\", user1.get_details())\n",
        "    print(\"User2 Details:\", user2.get_details())\n",
        "    print(\"User3 Details:\", user3.get_details())\n",
        "\n",
        "    user3.follow(user1)\n",
        "    print(\"User3 followed user 1\")\n",
        "    print(\"User1 Details:\", user1.get_details())\n",
        "    print(\"User2 Details:\", user2.get_details())\n",
        "    print(\"User3 Details:\", user3.get_details())\n",
        "    user1.unfollow(user2)\n",
        "    print(\"User1 unfollowed user 2\")\n",
        "    print(\"User1 Details:\", user1.get_details())\n",
        "    print(\"User2 Details:\", user2.get_details())\n",
        "    print(\"User3 Details:\", user3.get_details())\n",
        "    user1.unfollow(user3)\n",
        "    print(\"User1 unfollowed user 3\")\n",
        "    print(\"User1 Details:\", user1.get_details())\n",
        "    print(\"User2 Details:\", user2.get_details())\n",
        "    print(\"User3 Details:\", user3.get_details())\n",
        "    user3.unfollow(user1)\n",
        "    print(\"User3 unfollowed user 1\")\n",
        "    print(\"User1 Details:\", user1.get_details())\n",
        "    print(\"User2 Details:\", user2.get_details())\n",
        "    print(\"User3 Details:\", user3.get_details())"
      ]
    }
  ]
}