{
  "nbformat": 4,
  "nbformat_minor": 0,
  "metadata": {
    "colab": {
      "provenance": [],
      "authorship_tag": "ABX9TyMVibIvyyM8WwDoE9XJS4Q/",
      "include_colab_link": true
    },
    "kernelspec": {
      "name": "python3",
      "display_name": "Python 3"
    },
    "language_info": {
      "name": "python"
    }
  },
  "cells": [
    {
      "cell_type": "markdown",
      "metadata": {
        "id": "view-in-github",
        "colab_type": "text"
      },
      "source": [
        "<a href=\"https://colab.research.google.com/github/lipika-92/Python-Assignment1/blob/main/PythonASS3.ipynb\" target=\"_parent\"><img src=\"https://colab.research.google.com/assets/colab-badge.svg\" alt=\"Open In Colab\"/></a>"
      ]
    },
    {
      "cell_type": "code",
      "execution_count": 1,
      "metadata": {
        "colab": {
          "base_uri": "https://localhost:8080/"
        },
        "id": "3DXRrkq7aCoh",
        "outputId": "9d25a49d-8246-4756-bb5d-b966a0d07499"
      },
      "outputs": [
        {
          "output_type": "stream",
          "name": "stdout",
          "text": [
            "yaddo og a siya doT\n"
          ]
        }
      ],
      "source": [
        "#Assignment 3 - 17/05/25\n",
        "'''\n",
        "i/p - \"Today is a good day\"\n",
        "o/p - \"yaddo og a siya doT\n",
        "'''\n",
        "text = \"Today is a good day\"\n",
        "reversed_text = text.replace(\" \", \"\")[::-1]\n",
        "\n",
        "word_lengths = [len(word) for word in text.split()]\n",
        "result = []\n",
        "index = 0\n",
        "\n",
        "for length in word_lengths:\n",
        "    result.append(reversed_text[index:index+length])\n",
        "    index += length\n",
        "\n",
        "final_output = ' '.join(result)\n",
        "print(final_output)"
      ]
    },
    {
      "cell_type": "code",
      "source": [
        "'''\n",
        "i/p - \"Hello! Python ai machine learning\"\n",
        "o/p - \"gninra elenih ca mianoht yP!olleH\"\n",
        "'''\n",
        "text = \"Hello! Python ai machine learning\"\n",
        "reversed_text = text.replace(\" \", \"\")[::-1]\n",
        "\n",
        "word_lengths = [len(word) for word in text.split()]\n",
        "result = []\n",
        "index = 0\n",
        "\n",
        "for length in word_lengths:\n",
        "    result.append(reversed_text[index:index+length])\n",
        "    index += length\n",
        "\n",
        "final_output = ' '.join(result)\n",
        "print(final_output)\n"
      ],
      "metadata": {
        "colab": {
          "base_uri": "https://localhost:8080/"
        },
        "id": "SH8Uo9LScmN9",
        "outputId": "bc3ac56d-ba59-4290-c806-6f09da759437"
      },
      "execution_count": 2,
      "outputs": [
        {
          "output_type": "stream",
          "name": "stdout",
          "text": [
            "gninra elenih ca mianoht yP!olleH\n"
          ]
        }
      ]
    },
    {
      "cell_type": "code",
      "source": [
        "#find max number in list without using max(), sort()\n",
        "my_list = [3, 7, 1, 9, 4, 9, 2]\n",
        "maximum = my_list[0]  # Assume the first element is the maximum initially\n",
        "\n",
        "for number in my_list:\n",
        "    if number > maximum:\n",
        "        maximum = number\n",
        "\n",
        "print(f\"The maximum number in the list is: {maximum}\")\n"
      ],
      "metadata": {
        "colab": {
          "base_uri": "https://localhost:8080/"
        },
        "id": "llENmklNefUa",
        "outputId": "028e4b16-f09f-4191-a89a-54b3c971280d"
      },
      "execution_count": 3,
      "outputs": [
        {
          "output_type": "stream",
          "name": "stdout",
          "text": [
            "The maximum number in the list is: 9\n"
          ]
        }
      ]
    },
    {
      "cell_type": "code",
      "source": [
        "#find min number in list without using min(), sort()\n",
        "my_list = [3, 7, 1, 9, 4, 9, 2]\n",
        "minimum = my_list[0]  # Assume the first element is the minimum initially\n",
        "\n",
        "for number in my_list:\n",
        "    if number < minimum:\n",
        "        minimum = number\n",
        "\n",
        "print(f\"The minimum number in the list is: {minimum}\")\n"
      ],
      "metadata": {
        "colab": {
          "base_uri": "https://localhost:8080/"
        },
        "id": "npnhze1VeovP",
        "outputId": "505376b4-45f0-4c1d-fb8d-c8c4786c95af"
      },
      "execution_count": 4,
      "outputs": [
        {
          "output_type": "stream",
          "name": "stdout",
          "text": [
            "The minimum number in the list is: 1\n"
          ]
        }
      ]
    }
  ]
}