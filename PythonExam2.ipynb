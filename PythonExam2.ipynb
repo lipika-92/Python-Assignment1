{
  "nbformat": 4,
  "nbformat_minor": 0,
  "metadata": {
    "colab": {
      "provenance": [],
      "authorship_tag": "ABX9TyML8IT6Lc1ZBd4UBk71bgF5",
      "include_colab_link": true
    },
    "kernelspec": {
      "name": "python3",
      "display_name": "Python 3"
    },
    "language_info": {
      "name": "python"
    }
  },
  "cells": [
    {
      "cell_type": "markdown",
      "metadata": {
        "id": "view-in-github",
        "colab_type": "text"
      },
      "source": [
        "<a href=\"https://colab.research.google.com/github/lipika-92/Python-Assignment1/blob/main/PythonExam2.ipynb\" target=\"_parent\"><img src=\"https://colab.research.google.com/assets/colab-badge.svg\" alt=\"Open In Colab\"/></a>"
      ]
    },
    {
      "cell_type": "code",
      "execution_count": 4,
      "metadata": {
        "colab": {
          "base_uri": "https://localhost:8080/"
        },
        "id": "O85wCp48qU5Z",
        "outputId": "961ca604-6089-403b-9413-9ba7a51248ae"
      },
      "outputs": [
        {
          "output_type": "stream",
          "name": "stdout",
          "text": [
            "4 8\n"
          ]
        }
      ],
      "source": [
        "#Q1 and Q2 are in forms and notebook\n",
        "#Q3 - Unique number detector\n",
        "'''\n",
        "Unique Number Detector:-\n",
        "You are given a list of numbers. Write a program to find all numbers\n",
        "that appear only once in the list (no collections module allowed).\n",
        "Input: [2, 3, 5, 4, 5, 3, 2, 8]\n",
        "Output: 4, 8\n",
        "'''\n",
        "def uniqueNum(n):\n",
        "    res = \"\"\n",
        "    for i in n:\n",
        "        cnt = 0\n",
        "        for x in n:\n",
        "            if x == i:\n",
        "                cnt += 1\n",
        "\n",
        "        if cnt == 1:\n",
        "            if res == \"\":\n",
        "                res = str(i)\n",
        "            else:\n",
        "                res = res + \" \" + str(i)\n",
        "\n",
        "    return res\n",
        "list = [2, 3, 5, 4, 5, 3, 2, 8]\n",
        "print(uniqueNum(list))\n"
      ]
    },
    {
      "cell_type": "code",
      "source": [
        "#04 - Dynamic Argument Calculator\n",
        "'''\n",
        "Dynamic Argument Calculator:-\n",
        "Create a function calculate(op, *args) that performs addition, subtraction,\n",
        "multiplication, or division depending on the operator passed.\n",
        "Example:\n",
        "calculate('+', 1, 2, 3) → 6\n",
        "calculate('*', 2, 3, 4) → 24\n",
        "'''\n",
        "def calculate(operation, *args):\n",
        "    if not args:\n",
        "        return 0\n",
        "\n",
        "    if operation == '+':\n",
        "        result = 0\n",
        "        for num in args:\n",
        "            result += num\n",
        "\n",
        "        return result\n",
        "\n",
        "    elif operation == '-':\n",
        "        result = args[0]\n",
        "        for num in args[1:]:\n",
        "            result -= num\n",
        "\n",
        "        return result\n",
        "\n",
        "    elif operation == '*':\n",
        "        result = 1\n",
        "        for num in args:\n",
        "            result *= num\n",
        "\n",
        "        return result\n",
        "\n",
        "    elif operation == '/':\n",
        "        result = args[0]\n",
        "        for num in args[1:]:\n",
        "            if num == 0:\n",
        "                raise ValueError(\"Division by zero is not allowed\")\n",
        "\n",
        "            result /= num\n",
        "\n",
        "        return result\n",
        "    else:\n",
        "        raise ValueError(f\"Unsupported operator: '{operation}\")\n",
        "\n",
        "print(calculate('+', 1, 2, 3))\n",
        "print(calculate('*', 2, 3, 4))"
      ],
      "metadata": {
        "colab": {
          "base_uri": "https://localhost:8080/"
        },
        "id": "3fHLC1qvuYTh",
        "outputId": "44dd7164-8b1a-49ca-ffbf-de6833334667"
      },
      "execution_count": 5,
      "outputs": [
        {
          "output_type": "stream",
          "name": "stdout",
          "text": [
            "6\n",
            "24\n"
          ]
        }
      ]
    },
    {
      "cell_type": "code",
      "source": [
        "#Q5 - Word frequency counter\n",
        "'''\n",
        "Scenario: Word Frequency Counter (without collections.Counter)\n",
        "Build a dictionary-based function that returns the frequency\n",
        "of words in a sentence (case-insensitive, ignore punctuation).\n",
        "Input: \"Capgemini Capgemini is good\"\n",
        "Output: {'capgemini': 2, 'is': 1, 'good': 1}\n",
        "'''\n",
        "def word_frequency(s):\n",
        "  s = s.lower()\n",
        "  d = {}\n",
        "  for ch in s:\n",
        "    if not ch.isalpha() and ch != ' ':\n",
        "      s = s.replace(ch, '')\n",
        "  for w in s.split():\n",
        "    d[w] = d[w] + 1 if w in d else 1\n",
        "  return d\n",
        "\n",
        "print(word_frequency(\"Capgemini Capgemini is good\"))"
      ],
      "metadata": {
        "colab": {
          "base_uri": "https://localhost:8080/"
        },
        "id": "UQToMU9wwaKf",
        "outputId": "d0a93157-3f83-497f-e7c7-eb94d46fc654"
      },
      "execution_count": 18,
      "outputs": [
        {
          "output_type": "stream",
          "name": "stdout",
          "text": [
            "{'capgemini': 2, 'is': 1, 'good': 1}\n"
          ]
        }
      ]
    },
    {
      "cell_type": "code",
      "source": [
        "#Q6 - Group Anagrams from a list\n",
        "'''\n",
        "Group Anagrams from a List\n",
        "Input: ['eat', 'tea', 'tan', 'ate', 'nat', 'bat']\n",
        "Output: [['eat', 'tea', 'ate'], ['tan', 'nat'], ['bat']]\n",
        "Hint: Use defaultdict from collections with sorted word as key.\n",
        "Do not use defaultdict ... try without using it.\n",
        "'''\n",
        "def anagrams(words):\n",
        "    groups = {}\n",
        "    for word in words:\n",
        "        key = ''.join(sorted(word))\n",
        "        if key not in groups:\n",
        "            groups[key] = []\n",
        "        groups[key].append(word)\n",
        "    return (groups.values())\n",
        "n = ['eat', 'tea', 'tan', 'ate', 'nat', 'bat']\n",
        "result = anagrams(n)\n",
        "print(result)"
      ],
      "metadata": {
        "colab": {
          "base_uri": "https://localhost:8080/"
        },
        "id": "6rOhiVfpwsYB",
        "outputId": "4c603180-3646-4506-971e-ae86e52a71d8"
      },
      "execution_count": 16,
      "outputs": [
        {
          "output_type": "stream",
          "name": "stdout",
          "text": [
            "dict_values([['eat', 'tea', 'ate'], ['tan', 'nat'], ['bat']])\n"
          ]
        }
      ]
    },
    {
      "cell_type": "code",
      "source": [
        "#Q7 - Student registry system\n",
        "'''\n",
        "Scenario: Student Registry System\n",
        "Build a class Student with id, name, grade. Store all instances\n",
        "in a class-level dictionary keyed by student ID.\n",
        "Implement a class method get_top_students(n) that returns\n",
        "top N students by grade.\n",
        "'''\n",
        "class Student:\n",
        "    registry = {}\n",
        "\n",
        "    def __init__(self, studentID, name, grade):\n",
        "        self.id = studentID\n",
        "        self.name = name\n",
        "        self.grade = grade\n",
        "        Student.registry[self.id] = self\n",
        "\n",
        "    @classmethod\n",
        "    def get_top_students(cls, n):\n",
        "        def get_grade(student):\n",
        "            return student.grade\n",
        "        sorted_students = sorted(cls.registry.values(), key=get_grade, reverse=True)\n",
        "        return sorted_students[:n]\n",
        "\n",
        "    def display(self):\n",
        "        return f\"Student(id = {self.id}, Name = '{self.name}', Grade = {self.grade})\"\n",
        "\n",
        "s1 = Student(1, \"Lipika\", 85)\n",
        "s2 = Student(2, \"Kshitij\", 92)\n",
        "s3 = Student(3, \"Shilky\", 78)\n",
        "s4 = Student(4, \"Sudeepta\", 95)\n",
        "\n",
        "top_students = Student.get_top_students(2)\n",
        "\n",
        "for student in top_students:\n",
        "    print(student.display())"
      ],
      "metadata": {
        "colab": {
          "base_uri": "https://localhost:8080/"
        },
        "id": "AZCvoVs3w35Y",
        "outputId": "7c67400d-95db-4acf-90fa-aa07528f43db"
      },
      "execution_count": 25,
      "outputs": [
        {
          "output_type": "stream",
          "name": "stdout",
          "text": [
            "Student(id = 4, Name = 'Sudeepta', Grade = 95)\n",
            "Student(id = 2, Name = 'Kshitij', Grade = 92)\n"
          ]
        }
      ]
    },
    {
      "cell_type": "code",
      "source": [
        "#Q1\n",
        "'''\n",
        "You are building an attendance system. You are given a list of names of\n",
        "students. Print only those names that start with the letter \"A\".\n",
        "Input: students = ['Arun', 'Bala', 'Anu', 'Deepak', 'Aarthi']\n",
        "Expected Output:\n",
        "Arun\n",
        "Anu\n",
        "Aarthi\n",
        "'''\n",
        "students = ['Arun', 'Bala', 'Anu', 'Deepak', 'Aarthi']\n",
        "\n",
        "for student in students:\n",
        "    if student[0] == 'A':\n",
        "        print(student)"
      ],
      "metadata": {
        "colab": {
          "base_uri": "https://localhost:8080/"
        },
        "id": "Hq_sfZ91-XYi",
        "outputId": "81a2ae48-9bae-4fcb-c57c-da4fefa975db"
      },
      "execution_count": 26,
      "outputs": [
        {
          "output_type": "stream",
          "name": "stdout",
          "text": [
            "Arun\n",
            "Anu\n",
            "Aarthi\n"
          ]
        }
      ]
    },
    {
      "cell_type": "code",
      "source": [
        "#Q2\n",
        "'''\n",
        "You are designing a vending machine loop that allows users 3 chances to enter\n",
        "the correct PIN (1234). If the PIN is correct, print \"Access Granted\",\n",
        "else \"Try Again\". Stop the loop after 3 wrong attempts.\n",
        "'''\n",
        "correct_pin = 1234\n",
        "attempts = 3\n",
        "\n",
        "for _ in range(attempts):\n",
        "    pin = int(input(\"Enter PIN: \"))\n",
        "\n",
        "    if pin == correct_pin:\n",
        "        print(\"Access Granted\")\n",
        "        break\n",
        "    else:\n",
        "        print(\"Try Again\")\n",
        "else:\n",
        "    print(\"Too many incorrect attempts. Access Denied.\")"
      ],
      "metadata": {
        "colab": {
          "base_uri": "https://localhost:8080/"
        },
        "id": "cX3NS3oi-v79",
        "outputId": "58f1eb55-6f98-40cf-867a-96b3109ce7de"
      },
      "execution_count": 27,
      "outputs": [
        {
          "output_type": "stream",
          "name": "stdout",
          "text": [
            "Enter PIN: 123\n",
            "Try Again\n",
            "Enter PIN: 1234\n",
            "Access Granted\n"
          ]
        }
      ]
    }
  ]
}